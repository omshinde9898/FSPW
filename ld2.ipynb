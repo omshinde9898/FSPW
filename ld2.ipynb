{
 "cells": [
  {
   "cell_type": "code",
   "execution_count": 1,
   "metadata": {},
   "outputs": [],
   "source": [
    "from sklearn.feature_selection import mutual_info_classif           # Information Gain for classification task\n",
    "from sklearn.feature_selection import chi2                          # chi-square feature selection method\n",
    "from sklearn.feature_selection import VarianceThreshold\n",
    "from sklearn.feature_selection import RFE                           # Recurssive feature elimination algorithm\n",
    "from sklearn.feature_selection import SequentialFeatureSelector     # Forward feature selectioin method\n",
    "from sklearn.linear_model import LassoCV , RidgeCV                  # lasso and ridge cross validation algorithms for feature selection\n",
    "from sklearn.ensemble import RandomForestClassifier\n",
    "from sklearn.linear_model import LogisticRegression\n",
    "from sklearn.feature_selection import SelectFromModel               # to select features according to prefit LassoCV and RidgeCV\n",
    "import pandas as pd\n",
    "from sklearn.preprocessing import LabelEncoder\n",
    "from sklearn.model_selection import train_test_split\n",
    "from sklearn.utils import resample\n",
    "import numpy as np\n",
    "from sklearn.preprocessing import StandardScaler\n"
   ]
  },
  {
   "cell_type": "markdown",
   "metadata": {},
   "source": [
    "### Dataset Loading ###"
   ]
  },
  {
   "cell_type": "code",
   "execution_count": 2,
   "metadata": {},
   "outputs": [],
   "source": [
    "PATH = './data/ld2/Default_Fin.csv'\n",
    "Target_Variable = 'Defaulted?'\n",
    "\n",
    "frame = pd.read_csv(PATH)"
   ]
  },
  {
   "cell_type": "code",
   "execution_count": 3,
   "metadata": {},
   "outputs": [
    {
     "data": {
      "text/html": [
       "<div>\n",
       "<style scoped>\n",
       "    .dataframe tbody tr th:only-of-type {\n",
       "        vertical-align: middle;\n",
       "    }\n",
       "\n",
       "    .dataframe tbody tr th {\n",
       "        vertical-align: top;\n",
       "    }\n",
       "\n",
       "    .dataframe thead th {\n",
       "        text-align: right;\n",
       "    }\n",
       "</style>\n",
       "<table border=\"1\" class=\"dataframe\">\n",
       "  <thead>\n",
       "    <tr style=\"text-align: right;\">\n",
       "      <th></th>\n",
       "      <th>Index</th>\n",
       "      <th>Employed</th>\n",
       "      <th>Bank Balance</th>\n",
       "      <th>Annual Salary</th>\n",
       "      <th>Defaulted?</th>\n",
       "    </tr>\n",
       "  </thead>\n",
       "  <tbody>\n",
       "    <tr>\n",
       "      <th>0</th>\n",
       "      <td>1</td>\n",
       "      <td>1</td>\n",
       "      <td>8754.36</td>\n",
       "      <td>532339.56</td>\n",
       "      <td>0</td>\n",
       "    </tr>\n",
       "    <tr>\n",
       "      <th>1</th>\n",
       "      <td>2</td>\n",
       "      <td>0</td>\n",
       "      <td>9806.16</td>\n",
       "      <td>145273.56</td>\n",
       "      <td>0</td>\n",
       "    </tr>\n",
       "    <tr>\n",
       "      <th>2</th>\n",
       "      <td>3</td>\n",
       "      <td>1</td>\n",
       "      <td>12882.60</td>\n",
       "      <td>381205.68</td>\n",
       "      <td>0</td>\n",
       "    </tr>\n",
       "    <tr>\n",
       "      <th>3</th>\n",
       "      <td>4</td>\n",
       "      <td>1</td>\n",
       "      <td>6351.00</td>\n",
       "      <td>428453.88</td>\n",
       "      <td>0</td>\n",
       "    </tr>\n",
       "    <tr>\n",
       "      <th>4</th>\n",
       "      <td>5</td>\n",
       "      <td>1</td>\n",
       "      <td>9427.92</td>\n",
       "      <td>461562.00</td>\n",
       "      <td>0</td>\n",
       "    </tr>\n",
       "  </tbody>\n",
       "</table>\n",
       "</div>"
      ],
      "text/plain": [
       "   Index  Employed  Bank Balance  Annual Salary  Defaulted?\n",
       "0      1         1       8754.36      532339.56           0\n",
       "1      2         0       9806.16      145273.56           0\n",
       "2      3         1      12882.60      381205.68           0\n",
       "3      4         1       6351.00      428453.88           0\n",
       "4      5         1       9427.92      461562.00           0"
      ]
     },
     "execution_count": 3,
     "metadata": {},
     "output_type": "execute_result"
    }
   ],
   "source": [
    "frame.head()"
   ]
  },
  {
   "cell_type": "code",
   "execution_count": 4,
   "metadata": {},
   "outputs": [
    {
     "data": {
      "text/plain": [
       "Index            0\n",
       "Employed         0\n",
       "Bank Balance     0\n",
       "Annual Salary    0\n",
       "Defaulted?       0\n",
       "dtype: int64"
      ]
     },
     "execution_count": 4,
     "metadata": {},
     "output_type": "execute_result"
    }
   ],
   "source": [
    "frame.isnull().sum()"
   ]
  },
  {
   "cell_type": "code",
   "execution_count": 5,
   "metadata": {},
   "outputs": [],
   "source": [
    "for i in frame.columns[frame.isna().sum() > 0]:\n",
    "    frame[i] = frame[i].interpolate('linear')"
   ]
  },
  {
   "cell_type": "code",
   "execution_count": 6,
   "metadata": {},
   "outputs": [
    {
     "data": {
      "text/plain": [
       "Index            0\n",
       "Employed         0\n",
       "Bank Balance     0\n",
       "Annual Salary    0\n",
       "Defaulted?       0\n",
       "dtype: int64"
      ]
     },
     "execution_count": 6,
     "metadata": {},
     "output_type": "execute_result"
    }
   ],
   "source": [
    "frame.isnull().sum()"
   ]
  },
  {
   "cell_type": "code",
   "execution_count": 7,
   "metadata": {},
   "outputs": [],
   "source": [
    "\n",
    "# cat_vars = ['loan_limit', 'Gender', 'approv_in_adv', 'loan_type','loan_purpose', 'Credit_Worthiness', 'open_credit','business_or_commercial', 'term', 'Neg_ammortization','interest_only', 'construction_type', 'occupancy_type', 'Secured_by',  'credit_type', 'co-applicant_credit_type','submission_of_application', 'Region', 'Security_Type', 'dtir1','lump_sum_payment','total_units','age']\n",
    "\n",
    "# for i in cat_vars:\n",
    "#     le = LabelEncoder()\n",
    "#     frame[i] = le.fit_transform(frame[i])"
   ]
  },
  {
   "cell_type": "code",
   "execution_count": 8,
   "metadata": {},
   "outputs": [
    {
     "data": {
      "text/plain": [
       "[0     1\n",
       " 1     2\n",
       " 2     3\n",
       " 3     4\n",
       " 4     5\n",
       " 5     6\n",
       " 6     7\n",
       " 7     8\n",
       " 8     9\n",
       " 9    10\n",
       " Name: Index, dtype: int64,\n",
       " 0    1\n",
       " 1    0\n",
       " 2    1\n",
       " 3    1\n",
       " 4    1\n",
       " 5    0\n",
       " 6    1\n",
       " 7    0\n",
       " 8    1\n",
       " 9    1\n",
       " Name: Employed, dtype: int64,\n",
       " 0     8754.36\n",
       " 1     9806.16\n",
       " 2    12882.60\n",
       " 3     6351.00\n",
       " 4     9427.92\n",
       " 5    11035.08\n",
       " 6     9906.12\n",
       " 7     9704.04\n",
       " 8    13932.72\n",
       " 9        0.00\n",
       " Name: Bank Balance, dtype: float64,\n",
       " 0    532339.56\n",
       " 1    145273.56\n",
       " 2    381205.68\n",
       " 3    428453.88\n",
       " 4    461562.00\n",
       " 5     89898.72\n",
       " 6    298862.76\n",
       " 7    211205.40\n",
       " 8    449622.36\n",
       " 9    351303.24\n",
       " Name: Annual Salary, dtype: float64,\n",
       " 0    0\n",
       " 1    0\n",
       " 2    0\n",
       " 3    0\n",
       " 4    0\n",
       " 5    0\n",
       " 6    0\n",
       " 7    0\n",
       " 8    0\n",
       " 9    0\n",
       " Name: Defaulted?, dtype: int64]"
      ]
     },
     "execution_count": 8,
     "metadata": {},
     "output_type": "execute_result"
    }
   ],
   "source": [
    "[frame[i].iloc[0:10] for i in frame.columns]"
   ]
  },
  {
   "cell_type": "code",
   "execution_count": 9,
   "metadata": {},
   "outputs": [
    {
     "data": {
      "text/html": [
       "<div>\n",
       "<style scoped>\n",
       "    .dataframe tbody tr th:only-of-type {\n",
       "        vertical-align: middle;\n",
       "    }\n",
       "\n",
       "    .dataframe tbody tr th {\n",
       "        vertical-align: top;\n",
       "    }\n",
       "\n",
       "    .dataframe thead th {\n",
       "        text-align: right;\n",
       "    }\n",
       "</style>\n",
       "<table border=\"1\" class=\"dataframe\">\n",
       "  <thead>\n",
       "    <tr style=\"text-align: right;\">\n",
       "      <th></th>\n",
       "      <th>Index</th>\n",
       "      <th>Employed</th>\n",
       "      <th>Bank Balance</th>\n",
       "      <th>Annual Salary</th>\n",
       "      <th>Defaulted?</th>\n",
       "    </tr>\n",
       "  </thead>\n",
       "  <tbody>\n",
       "    <tr>\n",
       "      <th>0</th>\n",
       "      <td>1</td>\n",
       "      <td>1</td>\n",
       "      <td>8754.36</td>\n",
       "      <td>532339.56</td>\n",
       "      <td>0</td>\n",
       "    </tr>\n",
       "    <tr>\n",
       "      <th>1</th>\n",
       "      <td>2</td>\n",
       "      <td>0</td>\n",
       "      <td>9806.16</td>\n",
       "      <td>145273.56</td>\n",
       "      <td>0</td>\n",
       "    </tr>\n",
       "    <tr>\n",
       "      <th>2</th>\n",
       "      <td>3</td>\n",
       "      <td>1</td>\n",
       "      <td>12882.60</td>\n",
       "      <td>381205.68</td>\n",
       "      <td>0</td>\n",
       "    </tr>\n",
       "    <tr>\n",
       "      <th>3</th>\n",
       "      <td>4</td>\n",
       "      <td>1</td>\n",
       "      <td>6351.00</td>\n",
       "      <td>428453.88</td>\n",
       "      <td>0</td>\n",
       "    </tr>\n",
       "    <tr>\n",
       "      <th>4</th>\n",
       "      <td>5</td>\n",
       "      <td>1</td>\n",
       "      <td>9427.92</td>\n",
       "      <td>461562.00</td>\n",
       "      <td>0</td>\n",
       "    </tr>\n",
       "    <tr>\n",
       "      <th>...</th>\n",
       "      <td>...</td>\n",
       "      <td>...</td>\n",
       "      <td>...</td>\n",
       "      <td>...</td>\n",
       "      <td>...</td>\n",
       "    </tr>\n",
       "    <tr>\n",
       "      <th>9995</th>\n",
       "      <td>9996</td>\n",
       "      <td>1</td>\n",
       "      <td>8538.72</td>\n",
       "      <td>635908.56</td>\n",
       "      <td>0</td>\n",
       "    </tr>\n",
       "    <tr>\n",
       "      <th>9996</th>\n",
       "      <td>9997</td>\n",
       "      <td>1</td>\n",
       "      <td>9095.52</td>\n",
       "      <td>235928.64</td>\n",
       "      <td>0</td>\n",
       "    </tr>\n",
       "    <tr>\n",
       "      <th>9997</th>\n",
       "      <td>9998</td>\n",
       "      <td>1</td>\n",
       "      <td>10144.92</td>\n",
       "      <td>703633.92</td>\n",
       "      <td>0</td>\n",
       "    </tr>\n",
       "    <tr>\n",
       "      <th>9998</th>\n",
       "      <td>9999</td>\n",
       "      <td>1</td>\n",
       "      <td>18828.12</td>\n",
       "      <td>440029.32</td>\n",
       "      <td>0</td>\n",
       "    </tr>\n",
       "    <tr>\n",
       "      <th>9999</th>\n",
       "      <td>10000</td>\n",
       "      <td>0</td>\n",
       "      <td>2411.04</td>\n",
       "      <td>202355.40</td>\n",
       "      <td>0</td>\n",
       "    </tr>\n",
       "  </tbody>\n",
       "</table>\n",
       "<p>10000 rows × 5 columns</p>\n",
       "</div>"
      ],
      "text/plain": [
       "      Index  Employed  Bank Balance  Annual Salary  Defaulted?\n",
       "0         1         1       8754.36      532339.56           0\n",
       "1         2         0       9806.16      145273.56           0\n",
       "2         3         1      12882.60      381205.68           0\n",
       "3         4         1       6351.00      428453.88           0\n",
       "4         5         1       9427.92      461562.00           0\n",
       "...     ...       ...           ...            ...         ...\n",
       "9995   9996         1       8538.72      635908.56           0\n",
       "9996   9997         1       9095.52      235928.64           0\n",
       "9997   9998         1      10144.92      703633.92           0\n",
       "9998   9999         1      18828.12      440029.32           0\n",
       "9999  10000         0       2411.04      202355.40           0\n",
       "\n",
       "[10000 rows x 5 columns]"
      ]
     },
     "execution_count": 9,
     "metadata": {},
     "output_type": "execute_result"
    }
   ],
   "source": [
    "frame = frame.dropna()\n",
    "frame"
   ]
  },
  {
   "cell_type": "code",
   "execution_count": 10,
   "metadata": {},
   "outputs": [],
   "source": [
    "\n",
    "X = frame.drop([Target_Variable],axis=1)\n",
    "Y = frame[Target_Variable]\n"
   ]
  },
  {
   "cell_type": "code",
   "execution_count": 11,
   "metadata": {},
   "outputs": [
    {
     "name": "stdout",
     "output_type": "stream",
     "text": [
      "(19334, 4)\n",
      "(19334,)\n"
     ]
    }
   ],
   "source": [
    "# Identify the minority class label\n",
    "unique, counts = np.unique(Y, return_counts=True)\n",
    "minority_class = unique[np.argmin(counts)]\n",
    "\n",
    "# Get the data belonging to the minority class\n",
    "minority_X = X[Y == minority_class]\n",
    "minority_y = Y[Y == minority_class]\n",
    "\n",
    "# Get the majority class data (optional, for combining later)\n",
    "majority_X = X[Y != minority_class]\n",
    "majority_y = Y[Y != minority_class]\n",
    "\n",
    "# Upsample the minority class to match the size of the majority class\n",
    "n_samples = len(majority_X)  # Number of samples in the majority class\n",
    "upsampled_minority = resample(minority_X, replace=True, n_samples=n_samples, random_state=42)\n",
    "upsampled_minority_y = np.full(len(upsampled_minority), minority_class)  # Assign class labels\n",
    "\n",
    "# Combine the upsampled data with the majority class (optional)\n",
    "X_combined = np.concatenate((upsampled_minority, majority_X))\n",
    "y_combined = np.concatenate((upsampled_minority_y, majority_y))\n",
    "\n",
    "\n",
    "scaler = StandardScaler()\n",
    "X_scaled = scaler.fit_transform(X_combined)\n",
    "\n",
    "X = pd.DataFrame(X_scaled,columns=X.columns)\n",
    "Y = y_combined\n",
    "\n",
    "\n",
    "\n",
    "\n",
    "\n",
    "print(X.shape)\n",
    "print(Y.shape)"
   ]
  },
  {
   "cell_type": "code",
   "execution_count": 12,
   "metadata": {},
   "outputs": [],
   "source": [
    "X_train, X_test, y_train, y_test = train_test_split(X, Y, test_size=0.33, random_state=42)"
   ]
  },
  {
   "cell_type": "markdown",
   "metadata": {},
   "source": [
    "### Chi-Square Feature Selection ###"
   ]
  },
  {
   "cell_type": "code",
   "execution_count": 13,
   "metadata": {},
   "outputs": [
    {
     "name": "stdout",
     "output_type": "stream",
     "text": [
      "[ True  True  True  True]\n"
     ]
    }
   ],
   "source": [
    "selector = VarianceThreshold(threshold=0.5)  # Remove features with variance < 0.01\n",
    "selector.fit(X)\n",
    "print(selector.get_support())"
   ]
  },
  {
   "cell_type": "code",
   "execution_count": 14,
   "metadata": {},
   "outputs": [
    {
     "name": "stdout",
     "output_type": "stream",
     "text": [
      "\n",
      "Selected Features:\n",
      "Index(['Index', 'Employed', 'Bank Balance', 'Annual Salary'], dtype='object')\n"
     ]
    }
   ],
   "source": [
    "selected_features = X.columns[selector.get_support()] \n",
    "print(\"\\nSelected Features:\") \n",
    "print(selected_features)"
   ]
  },
  {
   "cell_type": "code",
   "execution_count": 15,
   "metadata": {},
   "outputs": [
    {
     "data": {
      "text/plain": [
       "0.8810531264692054"
      ]
     },
     "execution_count": 15,
     "metadata": {},
     "output_type": "execute_result"
    }
   ],
   "source": [
    "clf = LogisticRegression()\n",
    "clf.fit(X_train[selected_features],y_train)\n",
    "score = clf.score(X_test[selected_features],y_test)\n",
    "score"
   ]
  },
  {
   "cell_type": "code",
   "execution_count": 16,
   "metadata": {},
   "outputs": [
    {
     "data": {
      "text/plain": [
       "0.9918508070835292"
      ]
     },
     "execution_count": 16,
     "metadata": {},
     "output_type": "execute_result"
    }
   ],
   "source": [
    "clf = RandomForestClassifier()\n",
    "clf.fit(X_train[selected_features],y_train)\n",
    "score = clf.score(X_test[selected_features],y_test)\n",
    "score"
   ]
  },
  {
   "cell_type": "markdown",
   "metadata": {},
   "source": [
    "### Mutual Info ###"
   ]
  },
  {
   "cell_type": "code",
   "execution_count": 17,
   "metadata": {},
   "outputs": [],
   "source": [
    "fs = mutual_info_classif(X,Y)"
   ]
  },
  {
   "cell_type": "code",
   "execution_count": 18,
   "metadata": {},
   "outputs": [
    {
     "name": "stdout",
     "output_type": "stream",
     "text": [
      "\n",
      "Selected Features:\n",
      "Index(['Index', 'Bank Balance', 'Annual Salary'], dtype='object')\n"
     ]
    }
   ],
   "source": [
    "selected_features = X.columns[fs > 0.05] \n",
    "print(\"\\nSelected Features:\") \n",
    "print(selected_features)"
   ]
  },
  {
   "cell_type": "code",
   "execution_count": 19,
   "metadata": {},
   "outputs": [
    {
     "data": {
      "text/plain": [
       "0.8827769942015358"
      ]
     },
     "execution_count": 19,
     "metadata": {},
     "output_type": "execute_result"
    }
   ],
   "source": [
    "clf = LogisticRegression(n_jobs=16)\n",
    "clf.fit(X_train[selected_features],y_train)\n",
    "score = clf.score(X_test[selected_features],y_test)\n",
    "score"
   ]
  },
  {
   "cell_type": "code",
   "execution_count": 20,
   "metadata": {},
   "outputs": [
    {
     "data": {
      "text/plain": [
       "0.9926343833254976"
      ]
     },
     "execution_count": 20,
     "metadata": {},
     "output_type": "execute_result"
    }
   ],
   "source": [
    "clf = RandomForestClassifier(n_jobs=16)\n",
    "clf.fit(X_train[selected_features],y_train)\n",
    "score = clf.score(X_test[selected_features],y_test)\n",
    "score"
   ]
  },
  {
   "cell_type": "markdown",
   "metadata": {},
   "source": [
    "### Forward Selection Method ###"
   ]
  },
  {
   "cell_type": "code",
   "execution_count": 22,
   "metadata": {},
   "outputs": [
    {
     "data": {
      "text/plain": [
       "array([False,  True,  True,  True])"
      ]
     },
     "execution_count": 22,
     "metadata": {},
     "output_type": "execute_result"
    }
   ],
   "source": [
    "clf = LogisticRegression(n_jobs=16)\n",
    "sfs = SequentialFeatureSelector(clf,n_features_to_select=3)\n",
    "sfs.fit(X, Y)\n",
    "sfs.get_support()"
   ]
  },
  {
   "cell_type": "code",
   "execution_count": 23,
   "metadata": {},
   "outputs": [
    {
     "name": "stdout",
     "output_type": "stream",
     "text": [
      "\n",
      "Selected Features:\n",
      "Index(['Employed', 'Bank Balance', 'Annual Salary'], dtype='object')\n"
     ]
    }
   ],
   "source": [
    "selected_features = X.columns[sfs.get_support()] \n",
    "print(\"\\nSelected Features:\") \n",
    "print(selected_features)"
   ]
  },
  {
   "cell_type": "code",
   "execution_count": 24,
   "metadata": {},
   "outputs": [
    {
     "data": {
      "text/plain": [
       "0.8810531264692054"
      ]
     },
     "execution_count": 24,
     "metadata": {},
     "output_type": "execute_result"
    }
   ],
   "source": [
    "clf = LogisticRegression(n_jobs=16)\n",
    "clf.fit(X_train[selected_features],y_train)\n",
    "score = clf.score(X_test[selected_features],y_test)\n",
    "score"
   ]
  },
  {
   "cell_type": "code",
   "execution_count": 27,
   "metadata": {},
   "outputs": [
    {
     "data": {
      "text/plain": [
       "array([False,  True,  True,  True])"
      ]
     },
     "execution_count": 27,
     "metadata": {},
     "output_type": "execute_result"
    }
   ],
   "source": [
    "clf = RandomForestClassifier(n_jobs=16)\n",
    "sfs = SequentialFeatureSelector(clf,n_features_to_select=3,n_jobs=16)\n",
    "sfs.fit(X, Y)\n",
    "sfs.get_support()"
   ]
  },
  {
   "cell_type": "code",
   "execution_count": 28,
   "metadata": {},
   "outputs": [
    {
     "name": "stdout",
     "output_type": "stream",
     "text": [
      "\n",
      "Selected Features:\n",
      "Index(['Employed', 'Bank Balance', 'Annual Salary'], dtype='object')\n"
     ]
    }
   ],
   "source": [
    "selected_features = X.columns[sfs.get_support()] \n",
    "print(\"\\nSelected Features:\") \n",
    "print(selected_features)"
   ]
  },
  {
   "cell_type": "code",
   "execution_count": 29,
   "metadata": {},
   "outputs": [
    {
     "data": {
      "text/plain": [
       "0.9902836545995926"
      ]
     },
     "execution_count": 29,
     "metadata": {},
     "output_type": "execute_result"
    }
   ],
   "source": [
    "clf = RandomForestClassifier(n_jobs=16)\n",
    "clf.fit(X_train[selected_features],y_train)\n",
    "score = clf.score(X_test[selected_features],y_test)\n",
    "score"
   ]
  },
  {
   "cell_type": "markdown",
   "metadata": {},
   "source": [
    "### Recurssive Feature Elimination ###"
   ]
  },
  {
   "cell_type": "code",
   "execution_count": 31,
   "metadata": {},
   "outputs": [
    {
     "data": {
      "text/plain": [
       "array([False,  True,  True,  True])"
      ]
     },
     "execution_count": 31,
     "metadata": {},
     "output_type": "execute_result"
    }
   ],
   "source": [
    "estimator = LogisticRegression(n_jobs=16)\n",
    "selector = RFE(estimator, n_features_to_select=3, step=0.2)\n",
    "selector.fit(X, Y)\n",
    "selector.support_"
   ]
  },
  {
   "cell_type": "code",
   "execution_count": 32,
   "metadata": {},
   "outputs": [
    {
     "name": "stdout",
     "output_type": "stream",
     "text": [
      "\n",
      "Selected Features:\n",
      "Index(['Employed', 'Bank Balance', 'Annual Salary'], dtype='object')\n"
     ]
    }
   ],
   "source": [
    "selected_features = X.columns[selector.support_] \n",
    "print(\"\\nSelected Features:\") \n",
    "print(selected_features)"
   ]
  },
  {
   "cell_type": "code",
   "execution_count": 33,
   "metadata": {},
   "outputs": [
    {
     "data": {
      "text/plain": [
       "0.8810531264692054"
      ]
     },
     "execution_count": 33,
     "metadata": {},
     "output_type": "execute_result"
    }
   ],
   "source": [
    "clf = LogisticRegression(n_jobs=16)\n",
    "clf.fit(X_train[selected_features],y_train)\n",
    "score = clf.score(X_test[selected_features],y_test)\n",
    "score"
   ]
  },
  {
   "cell_type": "code",
   "execution_count": 35,
   "metadata": {},
   "outputs": [
    {
     "data": {
      "text/plain": [
       "array([ True, False,  True,  True])"
      ]
     },
     "execution_count": 35,
     "metadata": {},
     "output_type": "execute_result"
    }
   ],
   "source": [
    "estimator = RandomForestClassifier(n_jobs=16)\n",
    "selector = RFE(estimator, n_features_to_select=3, step=1)\n",
    "selector = selector.fit(X, Y)\n",
    "selector.support_"
   ]
  },
  {
   "cell_type": "code",
   "execution_count": 36,
   "metadata": {},
   "outputs": [
    {
     "name": "stdout",
     "output_type": "stream",
     "text": [
      "\n",
      "Selected Features:\n",
      "Index(['Index', 'Bank Balance', 'Annual Salary'], dtype='object')\n"
     ]
    }
   ],
   "source": [
    "selected_features = X.columns[selector.support_] \n",
    "print(\"\\nSelected Features:\") \n",
    "print(selected_features)"
   ]
  },
  {
   "cell_type": "code",
   "execution_count": 37,
   "metadata": {},
   "outputs": [
    {
     "data": {
      "text/plain": [
       "0.9932612443190723"
      ]
     },
     "execution_count": 37,
     "metadata": {},
     "output_type": "execute_result"
    }
   ],
   "source": [
    "clf = RandomForestClassifier(n_jobs=16)\n",
    "clf.fit(X_train[selected_features],y_train)\n",
    "score = clf.score(X_test[selected_features],y_test)\n",
    "score"
   ]
  },
  {
   "cell_type": "markdown",
   "metadata": {},
   "source": [
    "### Lasso Regx Feature Selection ###"
   ]
  },
  {
   "cell_type": "code",
   "execution_count": 38,
   "metadata": {},
   "outputs": [
    {
     "data": {
      "text/plain": [
       "array([-0.        ,  0.02393141,  0.37283512,  0.        ])"
      ]
     },
     "execution_count": 38,
     "metadata": {},
     "output_type": "execute_result"
    }
   ],
   "source": [
    "clf = LassoCV()\n",
    "clf.fit(X, Y)\n",
    "clf.coef_"
   ]
  },
  {
   "cell_type": "code",
   "execution_count": 39,
   "metadata": {},
   "outputs": [
    {
     "name": "stdout",
     "output_type": "stream",
     "text": [
      "\n",
      "Selected Features:\n",
      "Index(['Employed', 'Bank Balance'], dtype='object')\n"
     ]
    }
   ],
   "source": [
    "selected_features = X.columns[clf.coef_ != 0]\n",
    "print(\"\\nSelected Features:\") \n",
    "print(selected_features)"
   ]
  },
  {
   "cell_type": "code",
   "execution_count": 40,
   "metadata": {},
   "outputs": [
    {
     "data": {
      "text/plain": [
       "0.8812098417175991"
      ]
     },
     "execution_count": 40,
     "metadata": {},
     "output_type": "execute_result"
    }
   ],
   "source": [
    "clf = LogisticRegression(n_jobs=16)\n",
    "clf.fit(X_train[selected_features],y_train)\n",
    "score = clf.score(X_test[selected_features],y_test)\n",
    "score"
   ]
  },
  {
   "cell_type": "code",
   "execution_count": 41,
   "metadata": {},
   "outputs": [
    {
     "data": {
      "text/plain": [
       "0.9849553361542078"
      ]
     },
     "execution_count": 41,
     "metadata": {},
     "output_type": "execute_result"
    }
   ],
   "source": [
    "clf = RandomForestClassifier(n_jobs=16)\n",
    "clf.fit(X_train[selected_features],y_train)\n",
    "score = clf.score(X_test[selected_features],y_test)\n",
    "score"
   ]
  },
  {
   "cell_type": "markdown",
   "metadata": {},
   "source": [
    "### Ridge Regression For Feature Selection ###"
   ]
  },
  {
   "cell_type": "code",
   "execution_count": 42,
   "metadata": {},
   "outputs": [
    {
     "data": {
      "text/plain": [
       "array([-0.0061876 ,  0.03794714,  0.38752327,  0.00112366])"
      ]
     },
     "execution_count": 42,
     "metadata": {},
     "output_type": "execute_result"
    }
   ],
   "source": [
    "clf = RidgeCV()\n",
    "clf.fit(X, Y)\n",
    "clf.coef_"
   ]
  },
  {
   "cell_type": "code",
   "execution_count": 43,
   "metadata": {},
   "outputs": [
    {
     "name": "stdout",
     "output_type": "stream",
     "text": [
      "\n",
      "Selected Features:\n",
      "Index(['Employed', 'Bank Balance'], dtype='object')\n"
     ]
    }
   ],
   "source": [
    "selected_features = X.columns[clf.coef_ > 0.01]\n",
    "print(\"\\nSelected Features:\") \n",
    "print(selected_features)"
   ]
  },
  {
   "cell_type": "code",
   "execution_count": 44,
   "metadata": {},
   "outputs": [
    {
     "data": {
      "text/plain": [
       "0.8812098417175991"
      ]
     },
     "execution_count": 44,
     "metadata": {},
     "output_type": "execute_result"
    }
   ],
   "source": [
    "clf = LogisticRegression(n_jobs=16)\n",
    "clf.fit(X_train[selected_features],y_train)\n",
    "score = clf.score(X_test[selected_features],y_test)\n",
    "score"
   ]
  },
  {
   "cell_type": "code",
   "execution_count": 45,
   "metadata": {},
   "outputs": [
    {
     "data": {
      "text/plain": [
       "0.9851120514026015"
      ]
     },
     "execution_count": 45,
     "metadata": {},
     "output_type": "execute_result"
    }
   ],
   "source": [
    "clf = RandomForestClassifier(n_jobs=16)\n",
    "clf.fit(X_train[selected_features],y_train)\n",
    "score = clf.score(X_test[selected_features],y_test)\n",
    "score"
   ]
  }
 ],
 "metadata": {
  "kernelspec": {
   "display_name": "venv",
   "language": "python",
   "name": "python3"
  },
  "language_info": {
   "codemirror_mode": {
    "name": "ipython",
    "version": 3
   },
   "file_extension": ".py",
   "mimetype": "text/x-python",
   "name": "python",
   "nbconvert_exporter": "python",
   "pygments_lexer": "ipython3",
   "version": "3.12.3"
  }
 },
 "nbformat": 4,
 "nbformat_minor": 2
}
