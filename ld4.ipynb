{
 "cells": [
  {
   "cell_type": "code",
   "execution_count": 1,
   "metadata": {},
   "outputs": [],
   "source": [
    "from sklearn.feature_selection import mutual_info_classif           # Information Gain for classification task\n",
    "from sklearn.feature_selection import chi2                          # chi-square feature selection method\n",
    "from sklearn.feature_selection import VarianceThreshold\n",
    "from sklearn.feature_selection import RFE                           # Recurssive feature elimination algorithm\n",
    "from sklearn.feature_selection import SequentialFeatureSelector     # Forward feature selectioin method\n",
    "from sklearn.linear_model import LassoCV , RidgeCV                  # lasso and ridge cross validation algorithms for feature selection\n",
    "from sklearn.ensemble import RandomForestClassifier\n",
    "from sklearn.linear_model import LogisticRegression\n",
    "from sklearn.feature_selection import SelectFromModel               # to select features according to prefit LassoCV and RidgeCV\n",
    "import pandas as pd\n",
    "from sklearn.preprocessing import LabelEncoder\n",
    "from sklearn.model_selection import train_test_split\n",
    "from sklearn.utils import resample\n",
    "import numpy as np\n",
    "from sklearn.preprocessing import StandardScaler\n"
   ]
  },
  {
   "cell_type": "markdown",
   "metadata": {},
   "source": [
    "### Dataset Loading ###"
   ]
  },
  {
   "cell_type": "code",
   "execution_count": 2,
   "metadata": {},
   "outputs": [],
   "source": [
    "PATH = './data/ld4/Anonymize_Loan_Default_data.csv'\n",
    "Target_Variable = 'repay_fail'\n",
    "\n",
    "frame = pd.read_csv(PATH)"
   ]
  },
  {
   "cell_type": "code",
   "execution_count": 3,
   "metadata": {},
   "outputs": [
    {
     "data": {
      "text/html": [
       "<div>\n",
       "<style scoped>\n",
       "    .dataframe tbody tr th:only-of-type {\n",
       "        vertical-align: middle;\n",
       "    }\n",
       "\n",
       "    .dataframe tbody tr th {\n",
       "        vertical-align: top;\n",
       "    }\n",
       "\n",
       "    .dataframe thead th {\n",
       "        text-align: right;\n",
       "    }\n",
       "</style>\n",
       "<table border=\"1\" class=\"dataframe\">\n",
       "  <thead>\n",
       "    <tr style=\"text-align: right;\">\n",
       "      <th></th>\n",
       "      <th>id</th>\n",
       "      <th>member_id</th>\n",
       "      <th>loan_amnt</th>\n",
       "      <th>funded_amnt</th>\n",
       "      <th>funded_amnt_inv</th>\n",
       "      <th>term</th>\n",
       "      <th>int_rate</th>\n",
       "      <th>installment</th>\n",
       "      <th>emp_length</th>\n",
       "      <th>home_ownership</th>\n",
       "      <th>...</th>\n",
       "      <th>total_acc</th>\n",
       "      <th>total_pymnt</th>\n",
       "      <th>total_pymnt_inv</th>\n",
       "      <th>total_rec_prncp</th>\n",
       "      <th>total_rec_int</th>\n",
       "      <th>last_pymnt_d</th>\n",
       "      <th>last_pymnt_amnt</th>\n",
       "      <th>next_pymnt_d</th>\n",
       "      <th>last_credit_pull_d</th>\n",
       "      <th>repay_fail</th>\n",
       "    </tr>\n",
       "  </thead>\n",
       "  <tbody>\n",
       "    <tr>\n",
       "      <th>2</th>\n",
       "      <td>2</td>\n",
       "      <td>2</td>\n",
       "      <td>0.0</td>\n",
       "      <td>0.0</td>\n",
       "      <td>0.0</td>\n",
       "      <td>36 months</td>\n",
       "      <td>0.00</td>\n",
       "      <td>0.00</td>\n",
       "      <td>&lt; 1 year</td>\n",
       "      <td>RENT</td>\n",
       "      <td>...</td>\n",
       "      <td>1.0</td>\n",
       "      <td>0.000000</td>\n",
       "      <td>0.00</td>\n",
       "      <td>0.00</td>\n",
       "      <td>0.00</td>\n",
       "      <td>Jan-07</td>\n",
       "      <td>0.00</td>\n",
       "      <td>Jan-07</td>\n",
       "      <td>Jan-07</td>\n",
       "      <td>1</td>\n",
       "    </tr>\n",
       "    <tr>\n",
       "      <th>3</th>\n",
       "      <td>545583</td>\n",
       "      <td>703644</td>\n",
       "      <td>2500.0</td>\n",
       "      <td>2500.0</td>\n",
       "      <td>2500.0</td>\n",
       "      <td>36 months</td>\n",
       "      <td>13.98</td>\n",
       "      <td>85.42</td>\n",
       "      <td>4 years</td>\n",
       "      <td>RENT</td>\n",
       "      <td>...</td>\n",
       "      <td>10.0</td>\n",
       "      <td>3075.291779</td>\n",
       "      <td>3075.29</td>\n",
       "      <td>2500.00</td>\n",
       "      <td>575.29</td>\n",
       "      <td>Jul-13</td>\n",
       "      <td>90.85</td>\n",
       "      <td>Aug-13</td>\n",
       "      <td>Jun-16</td>\n",
       "      <td>0</td>\n",
       "    </tr>\n",
       "    <tr>\n",
       "      <th>4</th>\n",
       "      <td>532101</td>\n",
       "      <td>687836</td>\n",
       "      <td>5000.0</td>\n",
       "      <td>5000.0</td>\n",
       "      <td>5000.0</td>\n",
       "      <td>36 months</td>\n",
       "      <td>15.95</td>\n",
       "      <td>175.67</td>\n",
       "      <td>4 years</td>\n",
       "      <td>RENT</td>\n",
       "      <td>...</td>\n",
       "      <td>15.0</td>\n",
       "      <td>2948.760000</td>\n",
       "      <td>2948.76</td>\n",
       "      <td>1909.02</td>\n",
       "      <td>873.81</td>\n",
       "      <td>Nov-11</td>\n",
       "      <td>175.67</td>\n",
       "      <td>NaN</td>\n",
       "      <td>Mar-12</td>\n",
       "      <td>1</td>\n",
       "    </tr>\n",
       "    <tr>\n",
       "      <th>5</th>\n",
       "      <td>877788</td>\n",
       "      <td>1092507</td>\n",
       "      <td>7000.0</td>\n",
       "      <td>7000.0</td>\n",
       "      <td>7000.0</td>\n",
       "      <td>36 months</td>\n",
       "      <td>9.91</td>\n",
       "      <td>225.58</td>\n",
       "      <td>10+ years</td>\n",
       "      <td>MORTGAGE</td>\n",
       "      <td>...</td>\n",
       "      <td>20.0</td>\n",
       "      <td>8082.391880</td>\n",
       "      <td>8082.39</td>\n",
       "      <td>7000.00</td>\n",
       "      <td>1082.39</td>\n",
       "      <td>Mar-14</td>\n",
       "      <td>1550.27</td>\n",
       "      <td>NaN</td>\n",
       "      <td>Mar-14</td>\n",
       "      <td>0</td>\n",
       "    </tr>\n",
       "    <tr>\n",
       "      <th>6</th>\n",
       "      <td>875406</td>\n",
       "      <td>1089981</td>\n",
       "      <td>2000.0</td>\n",
       "      <td>2000.0</td>\n",
       "      <td>2000.0</td>\n",
       "      <td>36 months</td>\n",
       "      <td>5.42</td>\n",
       "      <td>60.32</td>\n",
       "      <td>10+ years</td>\n",
       "      <td>RENT</td>\n",
       "      <td>...</td>\n",
       "      <td>15.0</td>\n",
       "      <td>2161.663244</td>\n",
       "      <td>2161.66</td>\n",
       "      <td>2000.00</td>\n",
       "      <td>161.66</td>\n",
       "      <td>Feb-14</td>\n",
       "      <td>53.12</td>\n",
       "      <td>NaN</td>\n",
       "      <td>Jun-16</td>\n",
       "      <td>0</td>\n",
       "    </tr>\n",
       "  </tbody>\n",
       "</table>\n",
       "<p>5 rows × 36 columns</p>\n",
       "</div>"
      ],
      "text/plain": [
       "       id  member_id  loan_amnt  funded_amnt  funded_amnt_inv       term  \\\n",
       "2       2          2        0.0          0.0              0.0  36 months   \n",
       "3  545583     703644     2500.0       2500.0           2500.0  36 months   \n",
       "4  532101     687836     5000.0       5000.0           5000.0  36 months   \n",
       "5  877788    1092507     7000.0       7000.0           7000.0  36 months   \n",
       "6  875406    1089981     2000.0       2000.0           2000.0  36 months   \n",
       "\n",
       "   int_rate  installment emp_length home_ownership  ...  total_acc  \\\n",
       "2      0.00         0.00   < 1 year           RENT  ...        1.0   \n",
       "3     13.98        85.42    4 years           RENT  ...       10.0   \n",
       "4     15.95       175.67    4 years           RENT  ...       15.0   \n",
       "5      9.91       225.58  10+ years       MORTGAGE  ...       20.0   \n",
       "6      5.42        60.32  10+ years           RENT  ...       15.0   \n",
       "\n",
       "   total_pymnt total_pymnt_inv total_rec_prncp total_rec_int last_pymnt_d  \\\n",
       "2     0.000000            0.00            0.00          0.00       Jan-07   \n",
       "3  3075.291779         3075.29         2500.00        575.29       Jul-13   \n",
       "4  2948.760000         2948.76         1909.02        873.81       Nov-11   \n",
       "5  8082.391880         8082.39         7000.00       1082.39       Mar-14   \n",
       "6  2161.663244         2161.66         2000.00        161.66       Feb-14   \n",
       "\n",
       "  last_pymnt_amnt  next_pymnt_d  last_credit_pull_d repay_fail  \n",
       "2            0.00        Jan-07              Jan-07          1  \n",
       "3           90.85        Aug-13              Jun-16          0  \n",
       "4          175.67           NaN              Mar-12          1  \n",
       "5         1550.27           NaN              Mar-14          0  \n",
       "6           53.12           NaN              Jun-16          0  \n",
       "\n",
       "[5 rows x 36 columns]"
      ]
     },
     "execution_count": 3,
     "metadata": {},
     "output_type": "execute_result"
    }
   ],
   "source": [
    "frame.head()"
   ]
  },
  {
   "cell_type": "code",
   "execution_count": 4,
   "metadata": {},
   "outputs": [
    {
     "data": {
      "text/plain": [
       "id                            0\n",
       "member_id                     0\n",
       "loan_amnt                     1\n",
       "funded_amnt                   1\n",
       "funded_amnt_inv               1\n",
       "term                          0\n",
       "int_rate                      0\n",
       "installment                   1\n",
       "emp_length                  993\n",
       "home_ownership                0\n",
       "annual_inc                    2\n",
       "verification_status           0\n",
       "issue_d                       0\n",
       "loan_status                   0\n",
       "purpose                       0\n",
       "zip_code                      0\n",
       "addr_state                    0\n",
       "dti                           0\n",
       "delinq_2yrs                   1\n",
       "earliest_cr_line              0\n",
       "inq_last_6mths                1\n",
       "mths_since_last_delinq    24363\n",
       "open_acc                      1\n",
       "pub_rec                       1\n",
       "revol_bal                     4\n",
       "revol_util                   59\n",
       "total_acc                     1\n",
       "total_pymnt                   1\n",
       "total_pymnt_inv               1\n",
       "total_rec_prncp               1\n",
       "total_rec_int                 1\n",
       "last_pymnt_d                 71\n",
       "last_pymnt_amnt               1\n",
       "next_pymnt_d              35097\n",
       "last_credit_pull_d            3\n",
       "repay_fail                    0\n",
       "dtype: int64"
      ]
     },
     "execution_count": 4,
     "metadata": {},
     "output_type": "execute_result"
    }
   ],
   "source": [
    "frame.isnull().sum()"
   ]
  },
  {
   "cell_type": "code",
   "execution_count": 5,
   "metadata": {},
   "outputs": [
    {
     "name": "stderr",
     "output_type": "stream",
     "text": [
      "/tmp/ipykernel_37914/2695595236.py:2: FutureWarning: Series.interpolate with object dtype is deprecated and will raise in a future version. Call obj.infer_objects(copy=False) before interpolating instead.\n",
      "  frame[i] = frame[i].interpolate('linear')\n"
     ]
    }
   ],
   "source": [
    "for i in frame.columns[frame.isna().sum() > 0]:\n",
    "    frame[i] = frame[i].interpolate('linear')"
   ]
  },
  {
   "cell_type": "code",
   "execution_count": 6,
   "metadata": {},
   "outputs": [
    {
     "data": {
      "text/plain": [
       "id                          0\n",
       "member_id                   0\n",
       "loan_amnt                   0\n",
       "funded_amnt                 0\n",
       "funded_amnt_inv             0\n",
       "term                        0\n",
       "int_rate                    0\n",
       "installment                 0\n",
       "emp_length                993\n",
       "home_ownership              0\n",
       "annual_inc                  0\n",
       "verification_status         0\n",
       "issue_d                     0\n",
       "loan_status                 0\n",
       "purpose                     0\n",
       "zip_code                    0\n",
       "addr_state                  0\n",
       "dti                         0\n",
       "delinq_2yrs                 0\n",
       "earliest_cr_line            0\n",
       "inq_last_6mths              0\n",
       "mths_since_last_delinq      2\n",
       "open_acc                    0\n",
       "pub_rec                     0\n",
       "revol_bal                   0\n",
       "revol_util                 59\n",
       "total_acc                   0\n",
       "total_pymnt                 0\n",
       "total_pymnt_inv             0\n",
       "total_rec_prncp             0\n",
       "total_rec_int               0\n",
       "last_pymnt_d               71\n",
       "last_pymnt_amnt             0\n",
       "last_credit_pull_d          3\n",
       "repay_fail                  0\n",
       "dtype: int64"
      ]
     },
     "execution_count": 6,
     "metadata": {},
     "output_type": "execute_result"
    }
   ],
   "source": [
    "frame = frame.drop(['next_pymnt_d'],axis=1)\n",
    "\n",
    "frame.isnull().sum()"
   ]
  },
  {
   "cell_type": "code",
   "execution_count": 7,
   "metadata": {},
   "outputs": [],
   "source": [
    "\n",
    "cat_vars = ['term','emp_length','home_ownership','verification_status','loan_status','purpose','zip_code','addr_state','earliest_cr_line']\n",
    "\n",
    "for i in cat_vars:\n",
    "    le = LabelEncoder()\n",
    "    frame[i] = le.fit_transform(frame[i])"
   ]
  },
  {
   "cell_type": "code",
   "execution_count": 8,
   "metadata": {},
   "outputs": [
    {
     "data": {
      "text/plain": [
       "[2           2\n",
       " 3      545583\n",
       " 4      532101\n",
       " 5      877788\n",
       " 6      875406\n",
       " 7      506439\n",
       " 8      981465\n",
       " 9      749050\n",
       " 10    1016373\n",
       " 11     786870\n",
       " Name: id, dtype: int64,\n",
       " 2           2\n",
       " 3      703644\n",
       " 4      687836\n",
       " 5     1092507\n",
       " 6     1089981\n",
       " 7      652909\n",
       " 8     1204637\n",
       " 9      948200\n",
       " 10    1243872\n",
       " 11     990345\n",
       " Name: member_id, dtype: int64,\n",
       " 2         0.0\n",
       " 3      2500.0\n",
       " 4      5000.0\n",
       " 5      7000.0\n",
       " 6      2000.0\n",
       " 7      3600.0\n",
       " 8      8000.0\n",
       " 9      6000.0\n",
       " 10    25600.0\n",
       " 11    19750.0\n",
       " Name: loan_amnt, dtype: float64,\n",
       " 2         0.0\n",
       " 3      2500.0\n",
       " 4      5000.0\n",
       " 5      7000.0\n",
       " 6      2000.0\n",
       " 7      3600.0\n",
       " 8      8000.0\n",
       " 9      6000.0\n",
       " 10    25600.0\n",
       " 11    19750.0\n",
       " Name: funded_amnt, dtype: float64,\n",
       " 2         0.00000\n",
       " 3      2500.00000\n",
       " 4      5000.00000\n",
       " 5      7000.00000\n",
       " 6      2000.00000\n",
       " 7      3600.00000\n",
       " 8      8000.00000\n",
       " 9      6000.00000\n",
       " 10    25472.82947\n",
       " 11    19750.00000\n",
       " Name: funded_amnt_inv, dtype: float64,\n",
       " 2     0\n",
       " 3     0\n",
       " 4     0\n",
       " 5     0\n",
       " 6     0\n",
       " 7     0\n",
       " 8     0\n",
       " 9     0\n",
       " 10    1\n",
       " 11    1\n",
       " Name: term, dtype: int64,\n",
       " 2      0.00\n",
       " 3     13.98\n",
       " 4     15.95\n",
       " 5      9.91\n",
       " 6      5.42\n",
       " 7     10.25\n",
       " 8      6.03\n",
       " 9      7.49\n",
       " 10    14.27\n",
       " 11    23.22\n",
       " Name: int_rate, dtype: float64,\n",
       " 2       0.00\n",
       " 3      85.42\n",
       " 4     175.67\n",
       " 5     225.58\n",
       " 6      60.32\n",
       " 7     116.59\n",
       " 8     243.49\n",
       " 9     186.61\n",
       " 10    599.26\n",
       " 11    559.27\n",
       " Name: installment, dtype: float64,\n",
       " 2     10\n",
       " 3      4\n",
       " 4      4\n",
       " 5      1\n",
       " 6      1\n",
       " 7      1\n",
       " 8     11\n",
       " 9      3\n",
       " 10     4\n",
       " 11     1\n",
       " Name: emp_length, dtype: int64,\n",
       " 2     4\n",
       " 3     4\n",
       " 4     4\n",
       " 5     0\n",
       " 6     4\n",
       " 7     0\n",
       " 8     0\n",
       " 9     4\n",
       " 10    4\n",
       " 11    0\n",
       " Name: home_ownership, dtype: int64,\n",
       " 2          0.0\n",
       " 3      20004.0\n",
       " 4      59000.0\n",
       " 5      53796.0\n",
       " 6      30000.0\n",
       " 7     675048.0\n",
       " 8      77736.0\n",
       " 9      35000.0\n",
       " 10     86000.0\n",
       " 11     72500.0\n",
       " Name: annual_inc, dtype: float64,\n",
       " 2     0\n",
       " 3     0\n",
       " 4     0\n",
       " 5     0\n",
       " 6     0\n",
       " 7     0\n",
       " 8     2\n",
       " 9     0\n",
       " 10    2\n",
       " 11    2\n",
       " Name: verification_status, dtype: int64,\n",
       " 2     Dec-99\n",
       " 3     Jul-10\n",
       " 4     Jun-10\n",
       " 5     Sep-11\n",
       " 6     Sep-11\n",
       " 7     Apr-10\n",
       " 8     Oct-11\n",
       " 9     May-11\n",
       " 10    Nov-11\n",
       " 11    Jun-11\n",
       " Name: issue_d, dtype: object,\n",
       " 2     0\n",
       " 3     4\n",
       " 4     0\n",
       " 5     5\n",
       " 6     5\n",
       " 7     4\n",
       " 8     5\n",
       " 9     5\n",
       " 10    5\n",
       " 11    5\n",
       " Name: loan_status, dtype: int64,\n",
       " 2     6\n",
       " 3     9\n",
       " 4     2\n",
       " 5     9\n",
       " 6     2\n",
       " 7     9\n",
       " 8     9\n",
       " 9     2\n",
       " 10    2\n",
       " 11    2\n",
       " Name: purpose, dtype: int64,\n",
       " 2       0\n",
       " 3     434\n",
       " 4      92\n",
       " 5     626\n",
       " 6      89\n",
       " 7     319\n",
       " 8     718\n",
       " 9     559\n",
       " 10     82\n",
       " 11    535\n",
       " Name: zip_code, dtype: int64,\n",
       " 2     51\n",
       " 3     23\n",
       " 4     34\n",
       " 5     43\n",
       " 6     34\n",
       " 7      2\n",
       " 8      4\n",
       " 9     25\n",
       " 10    34\n",
       " 11    25\n",
       " Name: addr_state, dtype: int64,\n",
       " 2      0.00\n",
       " 3     19.86\n",
       " 4     19.57\n",
       " 5     10.80\n",
       " 6      3.60\n",
       " 7      1.55\n",
       " 8      6.07\n",
       " 9     13.13\n",
       " 10    26.51\n",
       " 11    19.96\n",
       " Name: dti, dtype: float64,\n",
       " 2     0.0\n",
       " 3     0.0\n",
       " 4     0.0\n",
       " 5     3.0\n",
       " 6     0.0\n",
       " 7     0.0\n",
       " 8     0.0\n",
       " 9     0.0\n",
       " 10    0.0\n",
       " 11    0.0\n",
       " Name: delinq_2yrs, dtype: float64,\n",
       " 2     174\n",
       " 3      49\n",
       " 4      38\n",
       " 5     341\n",
       " 6     190\n",
       " 7      42\n",
       " 8     252\n",
       " 9     438\n",
       " 10    464\n",
       " 11    335\n",
       " Name: earliest_cr_line, dtype: int64,\n",
       " 2     0.0\n",
       " 3     5.0\n",
       " 4     1.0\n",
       " 5     3.0\n",
       " 6     0.0\n",
       " 7     4.0\n",
       " 8     0.0\n",
       " 9     0.0\n",
       " 10    1.0\n",
       " 11    0.0\n",
       " Name: inq_last_6mths, dtype: float64,\n",
       " 2      NaN\n",
       " 3      NaN\n",
       " 4     59.0\n",
       " 5      3.0\n",
       " 6     72.0\n",
       " 7     25.0\n",
       " 8     34.0\n",
       " 9     43.0\n",
       " 10    52.0\n",
       " 11    61.0\n",
       " Name: mths_since_last_delinq, dtype: float64,\n",
       " 2      0.0\n",
       " 3      7.0\n",
       " 4      7.0\n",
       " 5      7.0\n",
       " 6      7.0\n",
       " 7      8.0\n",
       " 8     12.0\n",
       " 9      5.0\n",
       " 10    16.0\n",
       " 11    15.0\n",
       " Name: open_acc, dtype: float64,\n",
       " 2     0.0\n",
       " 3     0.0\n",
       " 4     0.0\n",
       " 5     0.0\n",
       " 6     0.0\n",
       " 7     0.0\n",
       " 8     0.0\n",
       " 9     0.0\n",
       " 10    0.0\n",
       " 11    0.0\n",
       " Name: pub_rec, dtype: float64,\n",
       " 2         0.0\n",
       " 3       981.0\n",
       " 4     18773.0\n",
       " 5      3269.0\n",
       " 6         0.0\n",
       " 7         0.0\n",
       " 8      4182.0\n",
       " 9      5864.0\n",
       " 10    33021.0\n",
       " 11    21544.0\n",
       " Name: revol_bal, dtype: float64,\n",
       " 2     �0.00%�\n",
       " 3      21.30%\n",
       " 4      99.90%\n",
       " 5      47.20%\n",
       " 6          0%\n",
       " 7          0%\n",
       " 8      13.60%\n",
       " 9      47.70%\n",
       " 10     70.80%\n",
       " 11     98.70%\n",
       " Name: revol_util, dtype: object,\n",
       " 2      1.0\n",
       " 3     10.0\n",
       " 4     15.0\n",
       " 5     20.0\n",
       " 6     15.0\n",
       " 7     25.0\n",
       " 8     49.0\n",
       " 9      9.0\n",
       " 10    32.0\n",
       " 11    44.0\n",
       " Name: total_acc, dtype: float64,\n",
       " 2         0.000000\n",
       " 3      3075.291779\n",
       " 4      2948.760000\n",
       " 5      8082.391880\n",
       " 6      2161.663244\n",
       " 7      4206.031191\n",
       " 8      8724.971815\n",
       " 9      6717.950109\n",
       " 10    32840.056740\n",
       " 11    27544.891160\n",
       " Name: total_pymnt, dtype: float64,\n",
       " 2         0.00\n",
       " 3      3075.29\n",
       " 4      2948.76\n",
       " 5      8082.39\n",
       " 6      2161.66\n",
       " 7      4206.03\n",
       " 8      8724.97\n",
       " 9      6717.95\n",
       " 10    32659.13\n",
       " 11    27544.89\n",
       " Name: total_pymnt_inv, dtype: float64,\n",
       " 2         0.00\n",
       " 3      2500.00\n",
       " 4      1909.02\n",
       " 5      7000.00\n",
       " 6      2000.00\n",
       " 7      3600.00\n",
       " 8      8000.00\n",
       " 9      6000.00\n",
       " 10    25600.00\n",
       " 11    19750.00\n",
       " Name: total_rec_prncp, dtype: float64,\n",
       " 2        0.00\n",
       " 3      575.29\n",
       " 4      873.81\n",
       " 5     1082.39\n",
       " 6      161.66\n",
       " 7      606.03\n",
       " 8      724.97\n",
       " 9      717.95\n",
       " 10    7240.06\n",
       " 11    7794.89\n",
       " Name: total_rec_int, dtype: float64,\n",
       " 2     Jan-07\n",
       " 3     Jul-13\n",
       " 4     Nov-11\n",
       " 5     Mar-14\n",
       " 6     Feb-14\n",
       " 7     May-13\n",
       " 8     Apr-14\n",
       " 9     May-14\n",
       " 10    Apr-14\n",
       " 11    Jun-13\n",
       " Name: last_pymnt_d, dtype: object,\n",
       " 2         0.00\n",
       " 3        90.85\n",
       " 4       175.67\n",
       " 5      1550.27\n",
       " 6        53.12\n",
       " 7       146.75\n",
       " 8      1423.66\n",
       " 9       211.41\n",
       " 10    16083.78\n",
       " 11    15264.34\n",
       " Name: last_pymnt_amnt, dtype: float64,\n",
       " 2     Jan-07\n",
       " 3     Jun-16\n",
       " 4     Mar-12\n",
       " 5     Mar-14\n",
       " 6     Jun-16\n",
       " 7     Jun-16\n",
       " 8     Apr-14\n",
       " 9     May-14\n",
       " 10    Jun-16\n",
       " 11    Feb-16\n",
       " Name: last_credit_pull_d, dtype: object,\n",
       " 2     1\n",
       " 3     0\n",
       " 4     1\n",
       " 5     0\n",
       " 6     0\n",
       " 7     0\n",
       " 8     0\n",
       " 9     0\n",
       " 10    0\n",
       " 11    0\n",
       " Name: repay_fail, dtype: int64]"
      ]
     },
     "execution_count": 8,
     "metadata": {},
     "output_type": "execute_result"
    }
   ],
   "source": [
    "[frame[i].iloc[0:10] for i in frame.columns]"
   ]
  },
  {
   "cell_type": "code",
   "execution_count": 9,
   "metadata": {},
   "outputs": [
    {
     "data": {
      "text/html": [
       "<div>\n",
       "<style scoped>\n",
       "    .dataframe tbody tr th:only-of-type {\n",
       "        vertical-align: middle;\n",
       "    }\n",
       "\n",
       "    .dataframe tbody tr th {\n",
       "        vertical-align: top;\n",
       "    }\n",
       "\n",
       "    .dataframe thead th {\n",
       "        text-align: right;\n",
       "    }\n",
       "</style>\n",
       "<table border=\"1\" class=\"dataframe\">\n",
       "  <thead>\n",
       "    <tr style=\"text-align: right;\">\n",
       "      <th></th>\n",
       "      <th>id</th>\n",
       "      <th>member_id</th>\n",
       "      <th>loan_amnt</th>\n",
       "      <th>funded_amnt</th>\n",
       "      <th>funded_amnt_inv</th>\n",
       "      <th>term</th>\n",
       "      <th>int_rate</th>\n",
       "      <th>installment</th>\n",
       "      <th>emp_length</th>\n",
       "      <th>home_ownership</th>\n",
       "      <th>...</th>\n",
       "      <th>revol_util</th>\n",
       "      <th>total_acc</th>\n",
       "      <th>total_pymnt</th>\n",
       "      <th>total_pymnt_inv</th>\n",
       "      <th>total_rec_prncp</th>\n",
       "      <th>total_rec_int</th>\n",
       "      <th>last_pymnt_d</th>\n",
       "      <th>last_pymnt_amnt</th>\n",
       "      <th>last_credit_pull_d</th>\n",
       "      <th>repay_fail</th>\n",
       "    </tr>\n",
       "  </thead>\n",
       "  <tbody>\n",
       "    <tr>\n",
       "      <th>4</th>\n",
       "      <td>532101</td>\n",
       "      <td>687836</td>\n",
       "      <td>5000.0</td>\n",
       "      <td>5000.0</td>\n",
       "      <td>5000.00000</td>\n",
       "      <td>0</td>\n",
       "      <td>15.95</td>\n",
       "      <td>175.67</td>\n",
       "      <td>4</td>\n",
       "      <td>4</td>\n",
       "      <td>...</td>\n",
       "      <td>99.90%</td>\n",
       "      <td>15.0</td>\n",
       "      <td>2948.760000</td>\n",
       "      <td>2948.76</td>\n",
       "      <td>1909.02</td>\n",
       "      <td>873.81</td>\n",
       "      <td>Nov-11</td>\n",
       "      <td>175.67</td>\n",
       "      <td>Mar-12</td>\n",
       "      <td>1</td>\n",
       "    </tr>\n",
       "    <tr>\n",
       "      <th>5</th>\n",
       "      <td>877788</td>\n",
       "      <td>1092507</td>\n",
       "      <td>7000.0</td>\n",
       "      <td>7000.0</td>\n",
       "      <td>7000.00000</td>\n",
       "      <td>0</td>\n",
       "      <td>9.91</td>\n",
       "      <td>225.58</td>\n",
       "      <td>1</td>\n",
       "      <td>0</td>\n",
       "      <td>...</td>\n",
       "      <td>47.20%</td>\n",
       "      <td>20.0</td>\n",
       "      <td>8082.391880</td>\n",
       "      <td>8082.39</td>\n",
       "      <td>7000.00</td>\n",
       "      <td>1082.39</td>\n",
       "      <td>Mar-14</td>\n",
       "      <td>1550.27</td>\n",
       "      <td>Mar-14</td>\n",
       "      <td>0</td>\n",
       "    </tr>\n",
       "    <tr>\n",
       "      <th>6</th>\n",
       "      <td>875406</td>\n",
       "      <td>1089981</td>\n",
       "      <td>2000.0</td>\n",
       "      <td>2000.0</td>\n",
       "      <td>2000.00000</td>\n",
       "      <td>0</td>\n",
       "      <td>5.42</td>\n",
       "      <td>60.32</td>\n",
       "      <td>1</td>\n",
       "      <td>4</td>\n",
       "      <td>...</td>\n",
       "      <td>0%</td>\n",
       "      <td>15.0</td>\n",
       "      <td>2161.663244</td>\n",
       "      <td>2161.66</td>\n",
       "      <td>2000.00</td>\n",
       "      <td>161.66</td>\n",
       "      <td>Feb-14</td>\n",
       "      <td>53.12</td>\n",
       "      <td>Jun-16</td>\n",
       "      <td>0</td>\n",
       "    </tr>\n",
       "    <tr>\n",
       "      <th>7</th>\n",
       "      <td>506439</td>\n",
       "      <td>652909</td>\n",
       "      <td>3600.0</td>\n",
       "      <td>3600.0</td>\n",
       "      <td>3600.00000</td>\n",
       "      <td>0</td>\n",
       "      <td>10.25</td>\n",
       "      <td>116.59</td>\n",
       "      <td>1</td>\n",
       "      <td>0</td>\n",
       "      <td>...</td>\n",
       "      <td>0%</td>\n",
       "      <td>25.0</td>\n",
       "      <td>4206.031191</td>\n",
       "      <td>4206.03</td>\n",
       "      <td>3600.00</td>\n",
       "      <td>606.03</td>\n",
       "      <td>May-13</td>\n",
       "      <td>146.75</td>\n",
       "      <td>Jun-16</td>\n",
       "      <td>0</td>\n",
       "    </tr>\n",
       "    <tr>\n",
       "      <th>8</th>\n",
       "      <td>981465</td>\n",
       "      <td>1204637</td>\n",
       "      <td>8000.0</td>\n",
       "      <td>8000.0</td>\n",
       "      <td>8000.00000</td>\n",
       "      <td>0</td>\n",
       "      <td>6.03</td>\n",
       "      <td>243.49</td>\n",
       "      <td>11</td>\n",
       "      <td>0</td>\n",
       "      <td>...</td>\n",
       "      <td>13.60%</td>\n",
       "      <td>49.0</td>\n",
       "      <td>8724.971815</td>\n",
       "      <td>8724.97</td>\n",
       "      <td>8000.00</td>\n",
       "      <td>724.97</td>\n",
       "      <td>Apr-14</td>\n",
       "      <td>1423.66</td>\n",
       "      <td>Apr-14</td>\n",
       "      <td>0</td>\n",
       "    </tr>\n",
       "    <tr>\n",
       "      <th>...</th>\n",
       "      <td>...</td>\n",
       "      <td>...</td>\n",
       "      <td>...</td>\n",
       "      <td>...</td>\n",
       "      <td>...</td>\n",
       "      <td>...</td>\n",
       "      <td>...</td>\n",
       "      <td>...</td>\n",
       "      <td>...</td>\n",
       "      <td>...</td>\n",
       "      <td>...</td>\n",
       "      <td>...</td>\n",
       "      <td>...</td>\n",
       "      <td>...</td>\n",
       "      <td>...</td>\n",
       "      <td>...</td>\n",
       "      <td>...</td>\n",
       "      <td>...</td>\n",
       "      <td>...</td>\n",
       "      <td>...</td>\n",
       "      <td>...</td>\n",
       "    </tr>\n",
       "    <tr>\n",
       "      <th>38476</th>\n",
       "      <td>849205</td>\n",
       "      <td>1060907</td>\n",
       "      <td>3000.0</td>\n",
       "      <td>3000.0</td>\n",
       "      <td>3000.00000</td>\n",
       "      <td>0</td>\n",
       "      <td>11.99</td>\n",
       "      <td>99.63</td>\n",
       "      <td>3</td>\n",
       "      <td>4</td>\n",
       "      <td>...</td>\n",
       "      <td>73.50%</td>\n",
       "      <td>22.0</td>\n",
       "      <td>3586.619764</td>\n",
       "      <td>3586.62</td>\n",
       "      <td>3000.00</td>\n",
       "      <td>586.62</td>\n",
       "      <td>Aug-14</td>\n",
       "      <td>100.30</td>\n",
       "      <td>Jun-16</td>\n",
       "      <td>0</td>\n",
       "    </tr>\n",
       "    <tr>\n",
       "      <th>38477</th>\n",
       "      <td>852914</td>\n",
       "      <td>1065048</td>\n",
       "      <td>10400.0</td>\n",
       "      <td>10400.0</td>\n",
       "      <td>10400.00000</td>\n",
       "      <td>0</td>\n",
       "      <td>13.49</td>\n",
       "      <td>352.88</td>\n",
       "      <td>9</td>\n",
       "      <td>4</td>\n",
       "      <td>...</td>\n",
       "      <td>39.70%</td>\n",
       "      <td>33.0</td>\n",
       "      <td>12703.534030</td>\n",
       "      <td>12703.53</td>\n",
       "      <td>10400.00</td>\n",
       "      <td>2303.53</td>\n",
       "      <td>Sep-14</td>\n",
       "      <td>393.08</td>\n",
       "      <td>Jun-16</td>\n",
       "      <td>0</td>\n",
       "    </tr>\n",
       "    <tr>\n",
       "      <th>38478</th>\n",
       "      <td>519553</td>\n",
       "      <td>671637</td>\n",
       "      <td>16000.0</td>\n",
       "      <td>10550.0</td>\n",
       "      <td>10531.35818</td>\n",
       "      <td>1</td>\n",
       "      <td>14.96</td>\n",
       "      <td>250.77</td>\n",
       "      <td>1</td>\n",
       "      <td>0</td>\n",
       "      <td>...</td>\n",
       "      <td>62.20%</td>\n",
       "      <td>25.0</td>\n",
       "      <td>14202.267530</td>\n",
       "      <td>14163.31</td>\n",
       "      <td>10550.00</td>\n",
       "      <td>3652.27</td>\n",
       "      <td>Jun-13</td>\n",
       "      <td>5439.96</td>\n",
       "      <td>Feb-16</td>\n",
       "      <td>0</td>\n",
       "    </tr>\n",
       "    <tr>\n",
       "      <th>38479</th>\n",
       "      <td>825638</td>\n",
       "      <td>1034448</td>\n",
       "      <td>10000.0</td>\n",
       "      <td>10000.0</td>\n",
       "      <td>10000.00000</td>\n",
       "      <td>0</td>\n",
       "      <td>16.89</td>\n",
       "      <td>355.99</td>\n",
       "      <td>0</td>\n",
       "      <td>4</td>\n",
       "      <td>...</td>\n",
       "      <td>53.30%</td>\n",
       "      <td>12.0</td>\n",
       "      <td>12815.178320</td>\n",
       "      <td>12815.18</td>\n",
       "      <td>10000.00</td>\n",
       "      <td>2815.18</td>\n",
       "      <td>Aug-14</td>\n",
       "      <td>380.63</td>\n",
       "      <td>Sep-15</td>\n",
       "      <td>0</td>\n",
       "    </tr>\n",
       "    <tr>\n",
       "      <th>38480</th>\n",
       "      <td>1029847</td>\n",
       "      <td>1249126</td>\n",
       "      <td>3200.0</td>\n",
       "      <td>3200.0</td>\n",
       "      <td>3200.00000</td>\n",
       "      <td>0</td>\n",
       "      <td>13.49</td>\n",
       "      <td>108.58</td>\n",
       "      <td>7</td>\n",
       "      <td>4</td>\n",
       "      <td>...</td>\n",
       "      <td>62.60%</td>\n",
       "      <td>18.0</td>\n",
       "      <td>3908.767275</td>\n",
       "      <td>3908.77</td>\n",
       "      <td>3200.00</td>\n",
       "      <td>708.77</td>\n",
       "      <td>Dec-14</td>\n",
       "      <td>111.88</td>\n",
       "      <td>Nov-14</td>\n",
       "      <td>0</td>\n",
       "    </tr>\n",
       "  </tbody>\n",
       "</table>\n",
       "<p>38349 rows × 35 columns</p>\n",
       "</div>"
      ],
      "text/plain": [
       "            id  member_id  loan_amnt  funded_amnt  funded_amnt_inv  term  \\\n",
       "4       532101     687836     5000.0       5000.0       5000.00000     0   \n",
       "5       877788    1092507     7000.0       7000.0       7000.00000     0   \n",
       "6       875406    1089981     2000.0       2000.0       2000.00000     0   \n",
       "7       506439     652909     3600.0       3600.0       3600.00000     0   \n",
       "8       981465    1204637     8000.0       8000.0       8000.00000     0   \n",
       "...        ...        ...        ...          ...              ...   ...   \n",
       "38476   849205    1060907     3000.0       3000.0       3000.00000     0   \n",
       "38477   852914    1065048    10400.0      10400.0      10400.00000     0   \n",
       "38478   519553     671637    16000.0      10550.0      10531.35818     1   \n",
       "38479   825638    1034448    10000.0      10000.0      10000.00000     0   \n",
       "38480  1029847    1249126     3200.0       3200.0       3200.00000     0   \n",
       "\n",
       "       int_rate  installment  emp_length  home_ownership  ...  revol_util  \\\n",
       "4         15.95       175.67           4               4  ...      99.90%   \n",
       "5          9.91       225.58           1               0  ...      47.20%   \n",
       "6          5.42        60.32           1               4  ...          0%   \n",
       "7         10.25       116.59           1               0  ...          0%   \n",
       "8          6.03       243.49          11               0  ...      13.60%   \n",
       "...         ...          ...         ...             ...  ...         ...   \n",
       "38476     11.99        99.63           3               4  ...      73.50%   \n",
       "38477     13.49       352.88           9               4  ...      39.70%   \n",
       "38478     14.96       250.77           1               0  ...      62.20%   \n",
       "38479     16.89       355.99           0               4  ...      53.30%   \n",
       "38480     13.49       108.58           7               4  ...      62.60%   \n",
       "\n",
       "       total_acc   total_pymnt  total_pymnt_inv  total_rec_prncp  \\\n",
       "4           15.0   2948.760000          2948.76          1909.02   \n",
       "5           20.0   8082.391880          8082.39          7000.00   \n",
       "6           15.0   2161.663244          2161.66          2000.00   \n",
       "7           25.0   4206.031191          4206.03          3600.00   \n",
       "8           49.0   8724.971815          8724.97          8000.00   \n",
       "...          ...           ...              ...              ...   \n",
       "38476       22.0   3586.619764          3586.62          3000.00   \n",
       "38477       33.0  12703.534030         12703.53         10400.00   \n",
       "38478       25.0  14202.267530         14163.31         10550.00   \n",
       "38479       12.0  12815.178320         12815.18         10000.00   \n",
       "38480       18.0   3908.767275          3908.77          3200.00   \n",
       "\n",
       "       total_rec_int  last_pymnt_d  last_pymnt_amnt  last_credit_pull_d  \\\n",
       "4             873.81        Nov-11           175.67              Mar-12   \n",
       "5            1082.39        Mar-14          1550.27              Mar-14   \n",
       "6             161.66        Feb-14            53.12              Jun-16   \n",
       "7             606.03        May-13           146.75              Jun-16   \n",
       "8             724.97        Apr-14          1423.66              Apr-14   \n",
       "...              ...           ...              ...                 ...   \n",
       "38476         586.62        Aug-14           100.30              Jun-16   \n",
       "38477        2303.53        Sep-14           393.08              Jun-16   \n",
       "38478        3652.27        Jun-13          5439.96              Feb-16   \n",
       "38479        2815.18        Aug-14           380.63              Sep-15   \n",
       "38480         708.77        Dec-14           111.88              Nov-14   \n",
       "\n",
       "       repay_fail  \n",
       "4               1  \n",
       "5               0  \n",
       "6               0  \n",
       "7               0  \n",
       "8               0  \n",
       "...           ...  \n",
       "38476           0  \n",
       "38477           0  \n",
       "38478           0  \n",
       "38479           0  \n",
       "38480           0  \n",
       "\n",
       "[38349 rows x 35 columns]"
      ]
     },
     "execution_count": 9,
     "metadata": {},
     "output_type": "execute_result"
    }
   ],
   "source": [
    "frame = frame.dropna()\n",
    "frame"
   ]
  },
  {
   "cell_type": "code",
   "execution_count": 10,
   "metadata": {},
   "outputs": [],
   "source": [
    "frame['revol_util'] = frame['revol_util'].apply(lambda x : float(x.strip('�').strip('%')))"
   ]
  },
  {
   "cell_type": "code",
   "execution_count": 11,
   "metadata": {},
   "outputs": [],
   "source": [
    "\n",
    "X = frame.drop([Target_Variable,'issue_d','last_pymnt_d','last_credit_pull_d'],axis=1)\n",
    "Y = frame[Target_Variable]\n"
   ]
  },
  {
   "cell_type": "code",
   "execution_count": 12,
   "metadata": {},
   "outputs": [
    {
     "name": "stdout",
     "output_type": "stream",
     "text": [
      "(65216, 31)\n",
      "(65216,)\n"
     ]
    }
   ],
   "source": [
    "# Identify the minority class label\n",
    "unique, counts = np.unique(Y, return_counts=True)\n",
    "minority_class = unique[np.argmin(counts)]\n",
    "\n",
    "# Get the data belonging to the minority class\n",
    "minority_X = X[Y == minority_class]\n",
    "minority_y = Y[Y == minority_class]\n",
    "\n",
    "# Get the majority class data (optional, for combining later)\n",
    "majority_X = X[Y != minority_class]\n",
    "majority_y = Y[Y != minority_class]\n",
    "\n",
    "# Upsample the minority class to match the size of the majority class\n",
    "n_samples = len(majority_X)  # Number of samples in the majority class\n",
    "upsampled_minority = resample(minority_X, replace=True, n_samples=n_samples, random_state=42)\n",
    "upsampled_minority_y = np.full(len(upsampled_minority), minority_class)  # Assign class labels\n",
    "\n",
    "# Combine the upsampled data with the majority class (optional)\n",
    "X_combined = np.concatenate((upsampled_minority, majority_X))\n",
    "y_combined = np.concatenate((upsampled_minority_y, majority_y))\n",
    "\n",
    "\n",
    "scaler = StandardScaler()\n",
    "X_scaled = scaler.fit_transform(X_combined)\n",
    "\n",
    "X = pd.DataFrame(X_scaled,columns=X.columns)\n",
    "Y = y_combined\n",
    "\n",
    "\n",
    "\n",
    "\n",
    "\n",
    "print(X.shape)\n",
    "print(Y.shape)"
   ]
  },
  {
   "cell_type": "code",
   "execution_count": 13,
   "metadata": {},
   "outputs": [],
   "source": [
    "X_train, X_test, y_train, y_test = train_test_split(X, Y, test_size=0.33, random_state=42)"
   ]
  },
  {
   "cell_type": "markdown",
   "metadata": {},
   "source": [
    "### Chi-Square Feature Selection ###"
   ]
  },
  {
   "cell_type": "code",
   "execution_count": 14,
   "metadata": {},
   "outputs": [
    {
     "name": "stdout",
     "output_type": "stream",
     "text": [
      "[ True False False False False False False False  True  True  True  True\n",
      "  True  True False False False  True  True  True False False  True False\n",
      " False  True  True False False  True False]\n"
     ]
    }
   ],
   "source": [
    "selector = VarianceThreshold(threshold=1)  # Remove features with variance < 0.01\n",
    "selector.fit(X)\n",
    "print(selector.get_support())"
   ]
  },
  {
   "cell_type": "code",
   "execution_count": 15,
   "metadata": {},
   "outputs": [
    {
     "name": "stdout",
     "output_type": "stream",
     "text": [
      "\n",
      "Selected Features:\n",
      "Index(['id', 'emp_length', 'home_ownership', 'annual_inc',\n",
      "       'verification_status', 'loan_status', 'purpose', 'delinq_2yrs',\n",
      "       'earliest_cr_line', 'inq_last_6mths', 'pub_rec', 'total_acc',\n",
      "       'total_pymnt', 'total_rec_int'],\n",
      "      dtype='object')\n"
     ]
    }
   ],
   "source": [
    "selected_features = X.columns[selector.get_support()] \n",
    "print(\"\\nSelected Features:\") \n",
    "print(selected_features)"
   ]
  },
  {
   "cell_type": "code",
   "execution_count": 16,
   "metadata": {},
   "outputs": [
    {
     "data": {
      "text/plain": [
       "0.9832264659418269"
      ]
     },
     "execution_count": 16,
     "metadata": {},
     "output_type": "execute_result"
    }
   ],
   "source": [
    "clf = LogisticRegression()\n",
    "clf.fit(X_train[selected_features],y_train)\n",
    "score = clf.score(X_test[selected_features],y_test)\n",
    "score"
   ]
  },
  {
   "cell_type": "code",
   "execution_count": 17,
   "metadata": {},
   "outputs": [
    {
     "data": {
      "text/plain": [
       "0.9999070718334727"
      ]
     },
     "execution_count": 17,
     "metadata": {},
     "output_type": "execute_result"
    }
   ],
   "source": [
    "clf = RandomForestClassifier()\n",
    "clf.fit(X_train[selected_features],y_train)\n",
    "score = clf.score(X_test[selected_features],y_test)\n",
    "score"
   ]
  },
  {
   "cell_type": "markdown",
   "metadata": {},
   "source": [
    "### Mutual Info ###"
   ]
  },
  {
   "cell_type": "code",
   "execution_count": 18,
   "metadata": {},
   "outputs": [],
   "source": [
    "fs = mutual_info_classif(X,Y)"
   ]
  },
  {
   "cell_type": "code",
   "execution_count": 19,
   "metadata": {},
   "outputs": [
    {
     "name": "stdout",
     "output_type": "stream",
     "text": [
      "\n",
      "Selected Features:\n",
      "Index(['id', 'member_id', 'funded_amnt_inv', 'int_rate', 'installment',\n",
      "       'annual_inc', 'loan_status', 'dti', 'revol_bal', 'total_pymnt',\n",
      "       'total_pymnt_inv', 'total_rec_prncp', 'total_rec_int',\n",
      "       'last_pymnt_amnt'],\n",
      "      dtype='object')\n"
     ]
    }
   ],
   "source": [
    "selected_features = X.columns[fs > 0.05] \n",
    "print(\"\\nSelected Features:\") \n",
    "print(selected_features)"
   ]
  },
  {
   "cell_type": "code",
   "execution_count": 20,
   "metadata": {},
   "outputs": [
    {
     "data": {
      "text/plain": [
       "0.9946566304246818"
      ]
     },
     "execution_count": 20,
     "metadata": {},
     "output_type": "execute_result"
    }
   ],
   "source": [
    "clf = LogisticRegression(n_jobs=16)\n",
    "clf.fit(X_train[selected_features],y_train)\n",
    "score = clf.score(X_test[selected_features],y_test)\n",
    "score"
   ]
  },
  {
   "cell_type": "code",
   "execution_count": 21,
   "metadata": {},
   "outputs": [
    {
     "data": {
      "text/plain": [
       "0.9999535359167364"
      ]
     },
     "execution_count": 21,
     "metadata": {},
     "output_type": "execute_result"
    }
   ],
   "source": [
    "clf = RandomForestClassifier(n_jobs=16)\n",
    "clf.fit(X_train[selected_features],y_train)\n",
    "score = clf.score(X_test[selected_features],y_test)\n",
    "score"
   ]
  },
  {
   "cell_type": "markdown",
   "metadata": {},
   "source": [
    "### Forward Selection Method ###"
   ]
  },
  {
   "cell_type": "code",
   "execution_count": 22,
   "metadata": {},
   "outputs": [
    {
     "data": {
      "text/plain": [
       "array([False, False, False, False, False, False, False, False,  True,\n",
       "        True, False, False,  True, False,  True,  True, False, False,\n",
       "       False, False, False, False, False, False, False, False, False,\n",
       "       False, False, False, False])"
      ]
     },
     "execution_count": 22,
     "metadata": {},
     "output_type": "execute_result"
    }
   ],
   "source": [
    "clf = LogisticRegression(n_jobs=16)\n",
    "sfs = SequentialFeatureSelector(clf,n_features_to_select=5)\n",
    "sfs.fit(X, Y)\n",
    "sfs.get_support()"
   ]
  },
  {
   "cell_type": "code",
   "execution_count": 23,
   "metadata": {},
   "outputs": [
    {
     "name": "stdout",
     "output_type": "stream",
     "text": [
      "\n",
      "Selected Features:\n",
      "Index(['emp_length', 'home_ownership', 'loan_status', 'zip_code',\n",
      "       'addr_state'],\n",
      "      dtype='object')\n"
     ]
    }
   ],
   "source": [
    "selected_features = X.columns[sfs.get_support()] \n",
    "print(\"\\nSelected Features:\") \n",
    "print(selected_features)"
   ]
  },
  {
   "cell_type": "code",
   "execution_count": 24,
   "metadata": {},
   "outputs": [
    {
     "data": {
      "text/plain": [
       "0.985270885605427"
      ]
     },
     "execution_count": 24,
     "metadata": {},
     "output_type": "execute_result"
    }
   ],
   "source": [
    "clf = LogisticRegression(n_jobs=16)\n",
    "clf.fit(X_train[selected_features],y_train)\n",
    "score = clf.score(X_test[selected_features],y_test)\n",
    "score"
   ]
  },
  {
   "cell_type": "code",
   "execution_count": 25,
   "metadata": {},
   "outputs": [
    {
     "data": {
      "text/plain": [
       "array([False,  True,  True,  True, False,  True, False, False, False,\n",
       "       False, False, False,  True, False, False, False, False, False,\n",
       "       False, False, False, False, False, False, False, False, False,\n",
       "       False, False, False, False])"
      ]
     },
     "execution_count": 25,
     "metadata": {},
     "output_type": "execute_result"
    }
   ],
   "source": [
    "clf = RandomForestClassifier(n_jobs=16)\n",
    "sfs = SequentialFeatureSelector(clf,n_features_to_select=5,n_jobs=16)\n",
    "sfs.fit(X, Y)\n",
    "sfs.get_support()"
   ]
  },
  {
   "cell_type": "code",
   "execution_count": 26,
   "metadata": {},
   "outputs": [
    {
     "name": "stdout",
     "output_type": "stream",
     "text": [
      "\n",
      "Selected Features:\n",
      "Index(['member_id', 'loan_amnt', 'funded_amnt', 'term', 'loan_status'], dtype='object')\n"
     ]
    }
   ],
   "source": [
    "selected_features = X.columns[sfs.get_support()] \n",
    "print(\"\\nSelected Features:\") \n",
    "print(selected_features)"
   ]
  },
  {
   "cell_type": "code",
   "execution_count": 27,
   "metadata": {},
   "outputs": [
    {
     "data": {
      "text/plain": [
       "1.0"
      ]
     },
     "execution_count": 27,
     "metadata": {},
     "output_type": "execute_result"
    }
   ],
   "source": [
    "clf = RandomForestClassifier(n_jobs=16)\n",
    "clf.fit(X_train[selected_features],y_train)\n",
    "score = clf.score(X_test[selected_features],y_test)\n",
    "score"
   ]
  },
  {
   "cell_type": "markdown",
   "metadata": {},
   "source": [
    "### Recurssive Feature Elimination ###"
   ]
  },
  {
   "cell_type": "code",
   "execution_count": 28,
   "metadata": {},
   "outputs": [
    {
     "data": {
      "text/plain": [
       "array([False, False, False,  True,  True, False, False,  True, False,\n",
       "       False, False, False, False, False, False, False, False, False,\n",
       "       False, False, False, False, False, False, False, False, False,\n",
       "        True,  True, False, False])"
      ]
     },
     "execution_count": 28,
     "metadata": {},
     "output_type": "execute_result"
    }
   ],
   "source": [
    "estimator = LogisticRegression(n_jobs=16)\n",
    "selector = RFE(estimator, n_features_to_select=5, step=0.2)\n",
    "selector.fit(X, Y)\n",
    "selector.support_"
   ]
  },
  {
   "cell_type": "code",
   "execution_count": 29,
   "metadata": {},
   "outputs": [
    {
     "name": "stdout",
     "output_type": "stream",
     "text": [
      "\n",
      "Selected Features:\n",
      "Index(['funded_amnt', 'funded_amnt_inv', 'installment', 'total_pymnt_inv',\n",
      "       'total_rec_prncp'],\n",
      "      dtype='object')\n"
     ]
    }
   ],
   "source": [
    "selected_features = X.columns[selector.support_] \n",
    "print(\"\\nSelected Features:\") \n",
    "print(selected_features)"
   ]
  },
  {
   "cell_type": "code",
   "execution_count": 30,
   "metadata": {},
   "outputs": [
    {
     "data": {
      "text/plain": [
       "0.9822507201932906"
      ]
     },
     "execution_count": 30,
     "metadata": {},
     "output_type": "execute_result"
    }
   ],
   "source": [
    "clf = LogisticRegression(n_jobs=16)\n",
    "clf.fit(X_train[selected_features],y_train)\n",
    "score = clf.score(X_test[selected_features],y_test)\n",
    "score"
   ]
  },
  {
   "cell_type": "code",
   "execution_count": 31,
   "metadata": {},
   "outputs": [
    {
     "data": {
      "text/plain": [
       "array([False, False, False,  True, False, False, False, False, False,\n",
       "       False, False, False,  True, False, False, False, False, False,\n",
       "       False, False, False, False, False, False, False, False, False,\n",
       "        True,  True, False,  True])"
      ]
     },
     "execution_count": 31,
     "metadata": {},
     "output_type": "execute_result"
    }
   ],
   "source": [
    "estimator = RandomForestClassifier(n_jobs=16)\n",
    "selector = RFE(estimator, n_features_to_select=5, step=1)\n",
    "selector = selector.fit(X, Y)\n",
    "selector.support_"
   ]
  },
  {
   "cell_type": "code",
   "execution_count": 32,
   "metadata": {},
   "outputs": [
    {
     "name": "stdout",
     "output_type": "stream",
     "text": [
      "\n",
      "Selected Features:\n",
      "Index(['funded_amnt', 'loan_status', 'total_pymnt_inv', 'total_rec_prncp',\n",
      "       'last_pymnt_amnt'],\n",
      "      dtype='object')\n"
     ]
    }
   ],
   "source": [
    "selected_features = X.columns[selector.support_] \n",
    "print(\"\\nSelected Features:\") \n",
    "print(selected_features)"
   ]
  },
  {
   "cell_type": "code",
   "execution_count": 33,
   "metadata": {},
   "outputs": [
    {
     "data": {
      "text/plain": [
       "1.0"
      ]
     },
     "execution_count": 33,
     "metadata": {},
     "output_type": "execute_result"
    }
   ],
   "source": [
    "clf = RandomForestClassifier(n_jobs=16)\n",
    "clf.fit(X_train[selected_features],y_train)\n",
    "score = clf.score(X_test[selected_features],y_test)\n",
    "score"
   ]
  },
  {
   "cell_type": "markdown",
   "metadata": {},
   "source": [
    "### Lasso Regx Feature Selection ###"
   ]
  },
  {
   "cell_type": "code",
   "execution_count": 34,
   "metadata": {},
   "outputs": [
    {
     "data": {
      "text/plain": [
       "array([-0.00000000e+00, -2.69444430e-02,  8.12422908e-03,  1.10812052e-02,\n",
       "       -1.40942248e-02,  0.00000000e+00, -0.00000000e+00,  4.93304254e-02,\n",
       "       -1.59869717e-04,  2.51938947e-04, -2.37585086e-03,  0.00000000e+00,\n",
       "       -4.16692095e-01,  6.10298782e-04,  1.22998305e-03, -0.00000000e+00,\n",
       "        2.35672193e-03, -0.00000000e+00, -1.45522311e-03,  4.66774432e-02,\n",
       "       -3.52319370e-03, -4.56616179e-04,  2.39173822e-03,  1.23895418e-02,\n",
       "        4.14709472e-03, -3.18674355e-03, -0.00000000e+00,  2.25949203e-02,\n",
       "       -1.16389672e-01,  4.33754157e-03,  7.10447886e-03])"
      ]
     },
     "execution_count": 34,
     "metadata": {},
     "output_type": "execute_result"
    }
   ],
   "source": [
    "clf = LassoCV()\n",
    "clf.fit(X, Y)\n",
    "clf.coef_"
   ]
  },
  {
   "cell_type": "code",
   "execution_count": 35,
   "metadata": {},
   "outputs": [
    {
     "name": "stdout",
     "output_type": "stream",
     "text": [
      "\n",
      "Selected Features:\n",
      "Index(['member_id', 'loan_amnt', 'funded_amnt', 'funded_amnt_inv',\n",
      "       'installment', 'emp_length', 'home_ownership', 'annual_inc',\n",
      "       'loan_status', 'purpose', 'zip_code', 'dti', 'earliest_cr_line',\n",
      "       'inq_last_6mths', 'mths_since_last_delinq', 'open_acc', 'pub_rec',\n",
      "       'revol_bal', 'revol_util', 'total_acc', 'total_pymnt_inv',\n",
      "       'total_rec_prncp', 'total_rec_int', 'last_pymnt_amnt'],\n",
      "      dtype='object')\n"
     ]
    }
   ],
   "source": [
    "selected_features = X.columns[clf.coef_ != 0]\n",
    "print(\"\\nSelected Features:\") \n",
    "print(selected_features)"
   ]
  },
  {
   "cell_type": "code",
   "execution_count": 36,
   "metadata": {},
   "outputs": [
    {
     "data": {
      "text/plain": [
       "0.9944243100083635"
      ]
     },
     "execution_count": 36,
     "metadata": {},
     "output_type": "execute_result"
    }
   ],
   "source": [
    "clf = LogisticRegression(n_jobs=16)\n",
    "clf.fit(X_train[selected_features],y_train)\n",
    "score = clf.score(X_test[selected_features],y_test)\n",
    "score"
   ]
  },
  {
   "cell_type": "code",
   "execution_count": 37,
   "metadata": {},
   "outputs": [
    {
     "data": {
      "text/plain": [
       "0.9998606077502091"
      ]
     },
     "execution_count": 37,
     "metadata": {},
     "output_type": "execute_result"
    }
   ],
   "source": [
    "clf = RandomForestClassifier(n_jobs=16)\n",
    "clf.fit(X_train[selected_features],y_train)\n",
    "score = clf.score(X_test[selected_features],y_test)\n",
    "score"
   ]
  },
  {
   "cell_type": "markdown",
   "metadata": {},
   "source": [
    "### Ridge Regression For Feature Selection ###"
   ]
  },
  {
   "cell_type": "code",
   "execution_count": 38,
   "metadata": {},
   "outputs": [
    {
     "data": {
      "text/plain": [
       "array([ 1.70560559e-02, -4.49558116e-02,  7.22219496e-03,  4.99308835e-02,\n",
       "       -6.14645971e-02,  2.46331475e-03, -3.34320879e-03,  5.53074265e-02,\n",
       "       -5.79000623e-04,  1.11408361e-03, -2.82836808e-03,  9.16177879e-04,\n",
       "       -4.16955230e-01,  1.01229379e-03,  1.72235936e-03,  2.08834883e-04,\n",
       "        2.76325149e-03,  2.53836851e-05, -1.73831427e-03,  4.66401698e-02,\n",
       "       -3.91702609e-03, -9.31496698e-04,  2.97427511e-03,  1.21006074e-02,\n",
       "        5.13584976e-03, -3.31731368e-03, -7.49200601e-02,  9.43035773e-02,\n",
       "       -1.13857051e-01,  9.87850522e-03,  9.06937242e-03])"
      ]
     },
     "execution_count": 38,
     "metadata": {},
     "output_type": "execute_result"
    }
   ],
   "source": [
    "clf = RidgeCV()\n",
    "clf.fit(X, Y)\n",
    "clf.coef_"
   ]
  },
  {
   "cell_type": "code",
   "execution_count": 39,
   "metadata": {},
   "outputs": [
    {
     "name": "stdout",
     "output_type": "stream",
     "text": [
      "\n",
      "Selected Features:\n",
      "Index(['id', 'funded_amnt', 'installment', 'inq_last_6mths', 'revol_bal',\n",
      "       'total_pymnt_inv'],\n",
      "      dtype='object')\n"
     ]
    }
   ],
   "source": [
    "selected_features = X.columns[clf.coef_ > 0.01]\n",
    "print(\"\\nSelected Features:\") \n",
    "print(selected_features)"
   ]
  },
  {
   "cell_type": "code",
   "execution_count": 40,
   "metadata": {},
   "outputs": [
    {
     "data": {
      "text/plain": [
       "0.8616299600408884"
      ]
     },
     "execution_count": 40,
     "metadata": {},
     "output_type": "execute_result"
    }
   ],
   "source": [
    "clf = LogisticRegression(n_jobs=16)\n",
    "clf.fit(X_train[selected_features],y_train)\n",
    "score = clf.score(X_test[selected_features],y_test)\n",
    "score"
   ]
  },
  {
   "cell_type": "code",
   "execution_count": 41,
   "metadata": {},
   "outputs": [
    {
     "data": {
      "text/plain": [
       "0.9851779574388997"
      ]
     },
     "execution_count": 41,
     "metadata": {},
     "output_type": "execute_result"
    }
   ],
   "source": [
    "clf = RandomForestClassifier(n_jobs=16)\n",
    "clf.fit(X_train[selected_features],y_train)\n",
    "score = clf.score(X_test[selected_features],y_test)\n",
    "score"
   ]
  }
 ],
 "metadata": {
  "kernelspec": {
   "display_name": "venv",
   "language": "python",
   "name": "python3"
  },
  "language_info": {
   "codemirror_mode": {
    "name": "ipython",
    "version": 3
   },
   "file_extension": ".py",
   "mimetype": "text/x-python",
   "name": "python",
   "nbconvert_exporter": "python",
   "pygments_lexer": "ipython3",
   "version": "3.12.3"
  }
 },
 "nbformat": 4,
 "nbformat_minor": 2
}
